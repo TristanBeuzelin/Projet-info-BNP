{
 "cells": [
  {
   "cell_type": "code",
   "execution_count": 51,
   "metadata": {},
   "outputs": [],
   "source": [
    "import numpy as np\n",
    "import matplotlib.pyplot as plt\n",
    "import sklearn as skl\n",
    "from sklearn.model_selection import train_test_split\n",
    "import scipy as sc\n",
    "import pandas as pd"
   ]
  },
  {
   "cell_type": "code",
   "execution_count": 20,
   "metadata": {},
   "outputs": [
    {
     "data": {
      "text/plain": [
       "(756, 1824)"
      ]
     },
     "execution_count": 20,
     "metadata": {},
     "output_type": "execute_result"
    }
   ],
   "source": [
    "price_data = pd.read_csv(\"../../price_filled2.csv\", sep = \";\")\n",
    "\n",
    "tab_price = price_data.to_numpy()[:,3:]\n",
    "dates_tab = price_data.columns[2:].to_numpy(dtype = np.str)\n",
    "tab_price.shape\n"
   ]
  },
  {
   "cell_type": "code",
   "execution_count": 3,
   "metadata": {},
   "outputs": [
    {
     "name": "stdout",
     "output_type": "stream",
     "text": [
      "{'2014-01': 0, '2014-02': 22, '2014-03': 42, '2014-04': 63, '2014-05': 84, '2014-06': 103, '2014-07': 123, '2014-08': 145, '2014-09': 165, '2014-10': 187, '2014-11': 210, '2014-12': 229, '2015-01': 251, '2015-02': 272, '2015-03': 292, '2015-04': 314, '2015-05': 335, '2015-06': 352, '2015-07': 374, '2015-08': 396, '2015-09': 417, '2015-10': 439, '2015-11': 461, '2015-12': 481, '2016-01': 503, '2016-02': 523, '2016-03': 544, '2016-04': 566, '2016-05': 587, '2016-06': 607, '2016-07': 629, '2016-08': 649, '2016-09': 671, '2016-10': 693, '2016-11': 714, '2016-12': 734, '2017-01': 756, '2017-02': 778, '2017-03': 798, '2017-04': 821, '2017-05': 840, '2017-06': 860, '2017-07': 881, '2017-08': 901, '2017-09': 921, '2017-10': 942, '2017-11': 964, '2017-12': 985, '2018-01': 1005, '2018-02': 1027, '2018-03': 1047, '2018-04': 1069, '2018-05': 1089, '2018-06': 1108, '2018-07': 1129, '2018-08': 1151, '2018-09': 1173, '2018-10': 1193, '2018-11': 1216, '2018-12': 1237, '2019-01': 1257, '2019-02': 1279, '2019-03': 1299, '2019-04': 1320, '2019-05': 1341, '2019-06': 1361, '2019-07': 1380, '2019-08': 1403, '2019-09': 1424, '2019-10': 1445, '2019-11': 1468, '2019-12': 1487, '2020-01': 1508, '2020-02': 1530, '2020-03': 1550, '2020-04': 1566, '2020-05': 1575, '2020-06': 1591, '2020-07': 1612, '2020-08': 1634, '2020-09': 1655, '2020-10': 1677, '2020-11': 1694, '2020-12': 1714, '2021-01': 1736, '2021-02': 1756, '2021-03': 1776, '2021-04': 1799, '2021-05': 1820}\n"
     ]
    }
   ],
   "source": [
    "current_month = dates_tab[0][:-3]\n",
    "# print(current_month)\n",
    "month_first_index = {current_month : 0}\n",
    "\n",
    "for i in range(len(dates_tab)) :\n",
    "    if (dates_tab[i][-4] != current_month[-1]) :\n",
    "        current_month = dates_tab[i][:-3]\n",
    "        month_first_index[current_month] = i\n",
    "#     print(dates_tab[i][-4], current_month[-1])\n",
    "\n",
    "print(month_first_index)"
   ]
  },
  {
   "cell_type": "code",
   "execution_count": 27,
   "metadata": {},
   "outputs": [],
   "source": [
    "indexes = np.array(list(month_first_index.values()))\n",
    "total = []\n",
    "for i in range(len(month_first_index)-1) :\n",
    "    X = tab_price[:,indexes[i]:indexes[i+1]].mean(axis = 1)\n",
    "    total.append(X)\n",
    "total.append(tab_price[:,indexes[-1]:].mean(axis = 1))\n",
    "result = np.column_stack(total)\n"
   ]
  },
  {
   "cell_type": "code",
   "execution_count": 35,
   "metadata": {},
   "outputs": [],
   "source": [
    "IPC_df = pd.read_csv(\"../../ipc2014-21.csv\", sep = \";\")\n",
    "Y = IPC_df.to_numpy()[:,1]"
   ]
  },
  {
   "cell_type": "code",
   "execution_count": 60,
   "metadata": {},
   "outputs": [],
   "source": [
    "X = result.copy()\n",
    "X0 = np.transpose(X[:,:-1]) #juste les données de base\n",
    "X1 = np.transpose(np.vstack((X[:,1:], Y))[:-1]) #on donne en plus le point t-1\n",
    "# X2 = np.transpose(np.vstack((np.transpose(X1[:,1:]), Y[:-1]))[:-1]) #on donne en plus le point t-2\n",
    "\n",
    "Y0 = Y\n",
    "Y1 = Y0[1:]\n",
    "Y2 = Y[2:]"
   ]
  },
  {
   "cell_type": "code",
   "execution_count": 64,
   "metadata": {},
   "outputs": [],
   "source": [
    "Xtrain, Xtest, Ytrain, Ytest = train_test_split(X0, Y0, test_size = .2)"
   ]
  },
  {
   "cell_type": "code",
   "execution_count": 66,
   "metadata": {},
   "outputs": [],
   "source": [
    "from sklearn.ensemble import GradientBoostingRegressor"
   ]
  },
  {
   "cell_type": "code",
   "execution_count": 70,
   "metadata": {},
   "outputs": [
    {
     "ename": "SyntaxError",
     "evalue": "invalid syntax (<ipython-input-70-5e0b0b156eb2>, line 1)",
     "output_type": "error",
     "traceback": [
      "\u001b[1;36m  File \u001b[1;32m\"<ipython-input-70-5e0b0b156eb2>\"\u001b[1;36m, line \u001b[1;32m1\u001b[0m\n\u001b[1;33m    params = **{loss='quantile',\u001b[0m\n\u001b[1;37m             ^\u001b[0m\n\u001b[1;31mSyntaxError\u001b[0m\u001b[1;31m:\u001b[0m invalid syntax\n"
     ]
    }
   ],
   "source": [
    "alpha = 0.9\n",
    "params = {'n_estimators': 350,\n",
    "          'max_depth': 6,\n",
    "          'alpha' : alpha,\n",
    "          'min_samples_split': 5,\n",
    "          'learning_rate': 0.1,\n",
    "          'loss': 'quantile'}"
   ]
  },
  {
   "cell_type": "code",
   "execution_count": null,
   "metadata": {},
   "outputs": [],
   "source": []
  }
 ],
 "metadata": {
  "kernelspec": {
   "display_name": "Python 3",
   "language": "python",
   "name": "python3"
  },
  "language_info": {
   "codemirror_mode": {
    "name": "ipython",
    "version": 3
   },
   "file_extension": ".py",
   "mimetype": "text/x-python",
   "name": "python",
   "nbconvert_exporter": "python",
   "pygments_lexer": "ipython3",
   "version": "3.8.3"
  }
 },
 "nbformat": 4,
 "nbformat_minor": 4
}
