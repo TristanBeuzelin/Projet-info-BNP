{
 "cells": [
  {
   "cell_type": "code",
   "execution_count": 23,
   "metadata": {},
   "outputs": [],
   "source": [
    "import pandas as pd\n",
    "import numpy as np\n",
    "import matplotlib.pyplot as plt"
   ]
  },
  {
   "cell_type": "code",
   "execution_count": 14,
   "metadata": {},
   "outputs": [],
   "source": [
    "data = pd.read_csv(\"./tuning2.csv\")"
   ]
  },
  {
   "cell_type": "code",
   "execution_count": 15,
   "metadata": {},
   "outputs": [],
   "source": [
    "data_sorted = data.sort_values(by = ['7'])\n",
    "data_sorted = data_sorted.reindex(range(data_sorted.shape[0]))\n"
   ]
  },
  {
   "cell_type": "code",
   "execution_count": 29,
   "metadata": {},
   "outputs": [
    {
     "data": {
      "text/html": [
       "<div>\n",
       "<style scoped>\n",
       "    .dataframe tbody tr th:only-of-type {\n",
       "        vertical-align: middle;\n",
       "    }\n",
       "\n",
       "    .dataframe tbody tr th {\n",
       "        vertical-align: top;\n",
       "    }\n",
       "\n",
       "    .dataframe thead th {\n",
       "        text-align: right;\n",
       "    }\n",
       "</style>\n",
       "<table border=\"1\" class=\"dataframe\">\n",
       "  <thead>\n",
       "    <tr style=\"text-align: right;\">\n",
       "      <th></th>\n",
       "      <th>Unnamed: 0</th>\n",
       "      <th>0</th>\n",
       "      <th>1</th>\n",
       "      <th>2</th>\n",
       "      <th>3</th>\n",
       "      <th>4</th>\n",
       "      <th>5</th>\n",
       "      <th>6</th>\n",
       "      <th>7</th>\n",
       "      <th>8</th>\n",
       "      <th>9</th>\n",
       "      <th>10</th>\n",
       "    </tr>\n",
       "  </thead>\n",
       "  <tbody>\n",
       "    <tr>\n",
       "      <th>0</th>\n",
       "      <td>0</td>\n",
       "      <td>0</td>\n",
       "      <td>200</td>\n",
       "      <td>4</td>\n",
       "      <td>0.9</td>\n",
       "      <td>3</td>\n",
       "      <td>0.01</td>\n",
       "      <td>10</td>\n",
       "      <td>0.675999</td>\n",
       "      <td>0.197146</td>\n",
       "      <td>0.032159</td>\n",
       "      <td>2.802140e-16</td>\n",
       "    </tr>\n",
       "    <tr>\n",
       "      <th>1</th>\n",
       "      <td>1</td>\n",
       "      <td>1</td>\n",
       "      <td>200</td>\n",
       "      <td>4</td>\n",
       "      <td>0.9</td>\n",
       "      <td>3</td>\n",
       "      <td>0.01</td>\n",
       "      <td>10</td>\n",
       "      <td>0.660394</td>\n",
       "      <td>0.192583</td>\n",
       "      <td>0.046894</td>\n",
       "      <td>2.030122e-16</td>\n",
       "    </tr>\n",
       "    <tr>\n",
       "      <th>2</th>\n",
       "      <td>2</td>\n",
       "      <td>2</td>\n",
       "      <td>200</td>\n",
       "      <td>4</td>\n",
       "      <td>0.9</td>\n",
       "      <td>3</td>\n",
       "      <td>0.01</td>\n",
       "      <td>10</td>\n",
       "      <td>0.604002</td>\n",
       "      <td>0.199397</td>\n",
       "      <td>0.056074</td>\n",
       "      <td>2.883362e-16</td>\n",
       "    </tr>\n",
       "    <tr>\n",
       "      <th>3</th>\n",
       "      <td>3</td>\n",
       "      <td>0</td>\n",
       "      <td>200</td>\n",
       "      <td>4</td>\n",
       "      <td>0.9</td>\n",
       "      <td>3</td>\n",
       "      <td>0.01</td>\n",
       "      <td>30</td>\n",
       "      <td>0.589555</td>\n",
       "      <td>0.188592</td>\n",
       "      <td>0.090158</td>\n",
       "      <td>2.001529e-16</td>\n",
       "    </tr>\n",
       "    <tr>\n",
       "      <th>4</th>\n",
       "      <td>4</td>\n",
       "      <td>1</td>\n",
       "      <td>200</td>\n",
       "      <td>4</td>\n",
       "      <td>0.9</td>\n",
       "      <td>3</td>\n",
       "      <td>0.01</td>\n",
       "      <td>30</td>\n",
       "      <td>0.640422</td>\n",
       "      <td>0.188336</td>\n",
       "      <td>0.055605</td>\n",
       "      <td>1.624098e-16</td>\n",
       "    </tr>\n",
       "  </tbody>\n",
       "</table>\n",
       "</div>"
      ],
      "text/plain": [
       "   Unnamed: 0  0    1  2    3  4     5   6         7         8         9  \\\n",
       "0           0  0  200  4  0.9  3  0.01  10  0.675999  0.197146  0.032159   \n",
       "1           1  1  200  4  0.9  3  0.01  10  0.660394  0.192583  0.046894   \n",
       "2           2  2  200  4  0.9  3  0.01  10  0.604002  0.199397  0.056074   \n",
       "3           3  0  200  4  0.9  3  0.01  30  0.589555  0.188592  0.090158   \n",
       "4           4  1  200  4  0.9  3  0.01  30  0.640422  0.188336  0.055605   \n",
       "\n",
       "             10  \n",
       "0  2.802140e-16  \n",
       "1  2.030122e-16  \n",
       "2  2.883362e-16  \n",
       "3  2.001529e-16  \n",
       "4  1.624098e-16  "
      ]
     },
     "execution_count": 29,
     "metadata": {},
     "output_type": "execute_result"
    }
   ],
   "source": [
    "data.head()"
   ]
  },
  {
   "cell_type": "code",
   "execution_count": 21,
   "metadata": {},
   "outputs": [],
   "source": [
    "data_sorted = data_sorted.drop(data_sorted.columns[0], axis = 1)"
   ]
  },
  {
   "cell_type": "code",
   "execution_count": 22,
   "metadata": {},
   "outputs": [
    {
     "data": {
      "text/plain": [
       "array([[0.00000000e+00, 2.00000000e+02, 4.00000000e+00, ...,\n",
       "        1.97145929e-01, 3.21590908e-02, 2.80214037e-16],\n",
       "       [1.00000000e+00, 2.00000000e+02, 4.00000000e+00, ...,\n",
       "        1.92582526e-01, 4.68937036e-02, 2.03012210e-16],\n",
       "       [2.00000000e+00, 2.00000000e+02, 4.00000000e+00, ...,\n",
       "        1.99396964e-01, 5.60740376e-02, 2.88336183e-16],\n",
       "       ...,\n",
       "       [0.00000000e+00, 4.50000000e+02, 6.00000000e+00, ...,\n",
       "        3.51480378e-04, 1.06176261e+00, 4.00305767e-16],\n",
       "       [1.00000000e+00, 4.50000000e+02, 6.00000000e+00, ...,\n",
       "        3.36297536e-04, 1.10613328e+00, 6.49639073e-16],\n",
       "       [2.00000000e+00, 4.50000000e+02, 6.00000000e+00, ...,\n",
       "        3.70516086e-04, 1.05305960e+00, 5.76672365e-16]])"
      ]
     },
     "execution_count": 22,
     "metadata": {},
     "output_type": "execute_result"
    }
   ],
   "source": [
    "data_tab = data_sorted.to_numpy()\n",
    "data_tab"
   ]
  },
  {
   "cell_type": "code",
   "execution_count": 28,
   "metadata": {},
   "outputs": [
    {
     "data": {
      "text/plain": [
       "array([0.67599855, 0.66039431, 0.60400234, ..., 0.92949909, 0.84011056,\n",
       "       0.90847729])"
      ]
     },
     "execution_count": 28,
     "metadata": {},
     "output_type": "execute_result"
    }
   ],
   "source": [
    "data_tab[:, 7]"
   ]
  },
  {
   "cell_type": "code",
   "execution_count": null,
   "metadata": {},
   "outputs": [],
   "source": []
  }
 ],
 "metadata": {
  "kernelspec": {
   "display_name": "Python 3",
   "language": "python",
   "name": "python3"
  },
  "language_info": {
   "codemirror_mode": {
    "name": "ipython",
    "version": 3
   },
   "file_extension": ".py",
   "mimetype": "text/x-python",
   "name": "python",
   "nbconvert_exporter": "python",
   "pygments_lexer": "ipython3",
   "version": "3.8.3"
  }
 },
 "nbformat": 4,
 "nbformat_minor": 4
}
