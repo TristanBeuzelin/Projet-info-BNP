{
 "cells": [
  {
   "cell_type": "code",
   "execution_count": 1,
   "metadata": {},
   "outputs": [
    {
     "name": "stderr",
     "output_type": "stream",
     "text": [
      "C:\\ProgramData\\Miniconda3\\lib\\site-packages\\numpy\\_distributor_init.py:30: UserWarning: loaded more than 1 DLL from .libs:\n",
      "C:\\ProgramData\\Miniconda3\\lib\\site-packages\\numpy\\.libs\\libopenblas.GK7GX5KEQ4F6UYO3P26ULGBQYHGQO7J4.gfortran-win_amd64.dll\n",
      "C:\\ProgramData\\Miniconda3\\lib\\site-packages\\numpy\\.libs\\libopenblas.NOIJJG62EMASZI6NYURL6JBKM4EVBGM7.gfortran-win_amd64.dll\n",
      "  warnings.warn(\"loaded more than 1 DLL from .libs:\"\n"
     ]
    }
   ],
   "source": [
    "import numpy as np\n",
    "import matplotlib.pyplot as plt\n",
    "import sklearn as skl\n",
    "from sklearn.model_selection import train_test_split\n",
    "import scipy as sc\n",
    "import pandas as pd"
   ]
  },
  {
   "cell_type": "code",
   "execution_count": 2,
   "metadata": {},
   "outputs": [
    {
     "name": "stderr",
     "output_type": "stream",
     "text": [
      "<ipython-input-2-c2153bfa6f88>:4: DeprecationWarning: `np.str` is a deprecated alias for the builtin `str`. To silence this warning, use `str` by itself. Doing this will not modify any behavior and is safe. If you specifically wanted the numpy scalar type, use `np.str_` here.\n",
      "Deprecated in NumPy 1.20; for more details and guidance: https://numpy.org/devdocs/release/1.20.0-notes.html#deprecations\n",
      "  dates_tab = price_data.columns[2:].to_numpy(dtype = np.str)\n"
     ]
    },
    {
     "data": {
      "text/plain": [
       "(756, 1824)"
      ]
     },
     "execution_count": 2,
     "metadata": {},
     "output_type": "execute_result"
    }
   ],
   "source": [
    "price_data = pd.read_csv(\"../../price_filled2.csv\", sep = \";\")\n",
    "\n",
    "tab_price = price_data.to_numpy()[:,3:]\n",
    "dates_tab = price_data.columns[2:].to_numpy(dtype = np.str)\n",
    "tab_price.shape\n"
   ]
  },
  {
   "cell_type": "code",
   "execution_count": 3,
   "metadata": {},
   "outputs": [
    {
     "name": "stdout",
     "output_type": "stream",
     "text": [
      "{'2014-01': 0, '2014-02': 22, '2014-03': 42, '2014-04': 63, '2014-05': 84, '2014-06': 103, '2014-07': 123, '2014-08': 145, '2014-09': 165, '2014-10': 187, '2014-11': 210, '2014-12': 229, '2015-01': 251, '2015-02': 272, '2015-03': 292, '2015-04': 314, '2015-05': 335, '2015-06': 352, '2015-07': 374, '2015-08': 396, '2015-09': 417, '2015-10': 439, '2015-11': 461, '2015-12': 481, '2016-01': 503, '2016-02': 523, '2016-03': 544, '2016-04': 566, '2016-05': 587, '2016-06': 607, '2016-07': 629, '2016-08': 649, '2016-09': 671, '2016-10': 693, '2016-11': 714, '2016-12': 734, '2017-01': 756, '2017-02': 778, '2017-03': 798, '2017-04': 821, '2017-05': 840, '2017-06': 860, '2017-07': 881, '2017-08': 901, '2017-09': 921, '2017-10': 942, '2017-11': 964, '2017-12': 985, '2018-01': 1005, '2018-02': 1027, '2018-03': 1047, '2018-04': 1069, '2018-05': 1089, '2018-06': 1108, '2018-07': 1129, '2018-08': 1151, '2018-09': 1173, '2018-10': 1193, '2018-11': 1216, '2018-12': 1237, '2019-01': 1257, '2019-02': 1279, '2019-03': 1299, '2019-04': 1320, '2019-05': 1341, '2019-06': 1361, '2019-07': 1380, '2019-08': 1403, '2019-09': 1424, '2019-10': 1445, '2019-11': 1468, '2019-12': 1487, '2020-01': 1508, '2020-02': 1530, '2020-03': 1550, '2020-04': 1566, '2020-05': 1575, '2020-06': 1591, '2020-07': 1612, '2020-08': 1634, '2020-09': 1655, '2020-10': 1677, '2020-11': 1694, '2020-12': 1714, '2021-01': 1736, '2021-02': 1756, '2021-03': 1776, '2021-04': 1799, '2021-05': 1820}\n"
     ]
    }
   ],
   "source": [
    "current_month = dates_tab[0][:-3]\n",
    "# print(current_month)\n",
    "month_first_index = {current_month : 0}\n",
    "\n",
    "for i in range(len(dates_tab)) :\n",
    "    if (dates_tab[i][-4] != current_month[-1]) :\n",
    "        current_month = dates_tab[i][:-3]\n",
    "        month_first_index[current_month] = i\n",
    "#     print(dates_tab[i][-4], current_month[-1])\n",
    "\n",
    "print(month_first_index)"
   ]
  },
  {
   "cell_type": "code",
   "execution_count": 4,
   "metadata": {},
   "outputs": [],
   "source": [
    "indexes = np.array(list(month_first_index.values()))\n",
    "total = []\n",
    "for i in range(len(month_first_index)-1) :\n",
    "    X = tab_price[:,indexes[i]:indexes[i+1]].mean(axis = 1)\n",
    "    total.append(X)\n",
    "total.append(tab_price[:,indexes[-1]:].mean(axis = 1))\n",
    "result = np.column_stack(total)\n",
    "n_data = result.shape[1]"
   ]
  },
  {
   "cell_type": "code",
   "execution_count": 5,
   "metadata": {},
   "outputs": [
    {
     "name": "stderr",
     "output_type": "stream",
     "text": [
      "<ipython-input-5-85d7e4731cfd>:5: DeprecationWarning: `np.float` is a deprecated alias for the builtin `float`. To silence this warning, use `float` by itself. Doing this will not modify any behavior and is safe. If you specifically wanted the numpy scalar type, use `np.float64` here.\n",
      "Deprecated in NumPy 1.20; for more details and guidance: https://numpy.org/devdocs/release/1.20.0-notes.html#deprecations\n",
      "  IPC = IPC_df[IPC_df.columns[1]].iloc[3:].to_numpy(dtype = np.float)[::-1]\n"
     ]
    },
    {
     "data": {
      "text/plain": [
       "(89,)"
      ]
     },
     "execution_count": 5,
     "metadata": {},
     "output_type": "execute_result"
    }
   ],
   "source": [
    "IPC_df = pd.read_csv(\"../../valeurs_mensuelles.csv\", sep = \";\")\n",
    "dates = IPC_df[\"Libellé\"].to_numpy()[3:]\n",
    "dates = dates[::-1].copy()\n",
    "\n",
    "IPC = IPC_df[IPC_df.columns[1]].iloc[3:].to_numpy(dtype = np.float)[::-1]\n",
    "\n",
    "IPC_selec = IPC[-n_data:]\n",
    "IPC_selec.shape"
   ]
  },
  {
   "cell_type": "code",
   "execution_count": 6,
   "metadata": {},
   "outputs": [],
   "source": [
    "X = result.copy()\n",
    "X0 = np.transpose(X) #juste les données de base\n",
    "X1 = np.transpose(np.vstack((X[:,1:], IPC_selec[:-1]))) #on donne en plus le point t-1\n",
    "X2 = np.transpose(np.vstack((np.transpose(X1)[:,1:], IPC_selec[:-2]))) #on donne en plus le point t-2\n",
    "\n",
    "Y0 = IPC_selec\n",
    "Y1 = IPC_selec[1:]\n",
    "Y2 = IPC_selec[2:]\n",
    "\n"
   ]
  },
  {
   "cell_type": "code",
   "execution_count": 7,
   "metadata": {},
   "outputs": [
    {
     "data": {
      "text/plain": [
       "(88, 757)"
      ]
     },
     "execution_count": 7,
     "metadata": {},
     "output_type": "execute_result"
    }
   ],
   "source": [
    "X1.shape\n"
   ]
  },
  {
   "cell_type": "code",
   "execution_count": 8,
   "metadata": {},
   "outputs": [
    {
     "name": "stdout",
     "output_type": "stream",
     "text": [
      "110.16397727272728 11.012065546045054\n",
      "-6.282853025719636e-16 1.0\n"
     ]
    }
   ],
   "source": [
    "##standardization\n",
    "\n",
    "from sklearn.preprocessing import StandardScaler\n",
    "scaler = StandardScaler()\n",
    "X1_std = scaler.fit_transform(X1)\n",
    "\n",
    "stddv_Y1 = Y1.std()\n",
    "mean_Y1 = Y1.mean()\n",
    "print(mean_Y1, stddv_Y1)\n",
    "\n",
    "scaler2 = StandardScaler()\n",
    "Y1_std = scaler2.fit_transform(Y1.reshape(-1, 1))\n",
    "stddv_Y1_std = Y1_std.std()\n",
    "mean_Y1_std = Y1_std.mean()\n",
    "print(mean_Y1_std, stddv_Y1_std)"
   ]
  },
  {
   "cell_type": "code",
   "execution_count": 9,
   "metadata": {},
   "outputs": [],
   "source": [
    "from sklearn.decomposition import PCA"
   ]
  },
  {
   "cell_type": "code",
   "execution_count": 10,
   "metadata": {},
   "outputs": [
    {
     "data": {
      "text/plain": [
       "array([[ 2.32046202e+01,  1.66370298e+01,  1.35244025e+01, ...,\n",
       "        -1.24524842e-02, -1.32703382e-03, -8.06686788e-03],\n",
       "       [ 2.28636196e+01,  1.54308041e+01,  1.22434042e+01, ...,\n",
       "         1.34181160e-01,  8.07244901e-03,  1.81128900e-02],\n",
       "       [ 2.29480904e+01,  1.46613373e+01,  1.19197642e+01, ...,\n",
       "        -1.94007983e-01,  2.88806072e-02,  2.11917702e-02],\n",
       "       ...,\n",
       "       [-2.22753348e+01,  1.34645284e+01, -9.58842768e+00, ...,\n",
       "         1.57716417e-01, -1.01007622e-01,  1.34906655e-01],\n",
       "       [-2.27970076e+01,  1.36598698e+01, -9.23072386e+00, ...,\n",
       "        -2.00710424e-01,  3.41844939e-02,  7.31675851e-02],\n",
       "       [-2.22470698e+01,  1.36953452e+01, -8.25636759e+00, ...,\n",
       "         9.44473679e-03,  2.10523997e-02, -1.82886814e-01]])"
      ]
     },
     "execution_count": 10,
     "metadata": {},
     "output_type": "execute_result"
    }
   ],
   "source": [
    "pca = PCA(n_components=80)\n",
    "X1_std_pca = pca.fit_transform(X1_std)\n",
    "X1_std_pca"
   ]
  },
  {
   "cell_type": "code",
   "execution_count": 11,
   "metadata": {},
   "outputs": [
    {
     "data": {
      "text/plain": [
       "(88, 80)"
      ]
     },
     "execution_count": 11,
     "metadata": {},
     "output_type": "execute_result"
    }
   ],
   "source": [
    "X1_std_pca.shape"
   ]
  },
  {
   "cell_type": "code",
   "execution_count": null,
   "metadata": {},
   "outputs": [],
   "source": []
  },
  {
   "cell_type": "code",
   "execution_count": 12,
   "metadata": {},
   "outputs": [],
   "source": [
    "Xtrain, Xtest, Ytrain, Ytest = train_test_split(X1_std_pca, Y1_std, test_size = .2)\n",
    "# Xtrain = Xtrain.T\n",
    "# Xtest = Xtest.T"
   ]
  },
  {
   "cell_type": "code",
   "execution_count": 13,
   "metadata": {},
   "outputs": [],
   "source": [
    "from sklearn.ensemble import GradientBoostingRegressor"
   ]
  },
  {
   "cell_type": "code",
   "execution_count": 14,
   "metadata": {},
   "outputs": [],
   "source": [
    "alpha = 0.9\n",
    "params = {'n_estimators': 350,\n",
    "          'max_depth': 6,\n",
    "          'alpha' : alpha,\n",
    "          'min_samples_split': 5,\n",
    "          'learning_rate': 0.1,\n",
    "          'loss': 'ls'}"
   ]
  },
  {
   "cell_type": "code",
   "execution_count": 15,
   "metadata": {},
   "outputs": [
    {
     "name": "stderr",
     "output_type": "stream",
     "text": [
      "C:\\ProgramData\\Miniconda3\\lib\\site-packages\\sklearn\\utils\\validation.py:72: DataConversionWarning: A column-vector y was passed when a 1d array was expected. Please change the shape of y to (n_samples, ), for example using ravel().\n",
      "  return f(**kwargs)\n"
     ]
    }
   ],
   "source": [
    "reg_up = GradientBoostingRegressor(**params)\n",
    "\n",
    "reg_up = reg_up.fit(Xtrain, Ytrain)\n",
    "\n",
    "y_upper_test = reg_up.predict(Xtest)*stddv_Y1 + mean_Y1\n",
    "y_upper_train = reg_up.predict(Xtrain)*stddv_Y1 + mean_Y1"
   ]
  },
  {
   "cell_type": "code",
   "execution_count": 16,
   "metadata": {},
   "outputs": [
    {
     "name": "stderr",
     "output_type": "stream",
     "text": [
      "C:\\ProgramData\\Miniconda3\\lib\\site-packages\\sklearn\\utils\\validation.py:72: DataConversionWarning: A column-vector y was passed when a 1d array was expected. Please change the shape of y to (n_samples, ), for example using ravel().\n",
      "  return f(**kwargs)\n"
     ]
    }
   ],
   "source": [
    "reg_low = GradientBoostingRegressor(**params)\n",
    "reg_low.set_params(alpha=1.0 - alpha)\n",
    "reg_low = reg_low.fit(Xtrain, Ytrain)\n",
    "\n",
    "y_lower_test = reg_low.predict(Xtest)*stddv_Y1 + mean_Y1\n",
    "y_lower_train = reg_low.predict(Xtrain)*stddv_Y1 + mean_Y1"
   ]
  },
  {
   "cell_type": "code",
   "execution_count": 17,
   "metadata": {},
   "outputs": [
    {
     "data": {
      "image/png": "[encoded data removed]",
      "text/plain": [
       "<Figure size 1440x720 with 1 Axes>"
      ]
     },
     "metadata": {
      "needs_background": "light"
     },
     "output_type": "display_data"
    }
   ],
   "source": [
    "fig = plt.figure(figsize = (20,10))\n",
    "\n",
    "line3 = plt.plot(Ytest*stddv_Y1 + mean_Y1,'b',label=u'Observations')\n",
    "\n",
    "line1 = plt.plot(y_upper_test, 'r--', label='Upper quartile')\n",
    "line2 = plt.plot(y_lower_test, 'g--',label='Lower quartile')\n",
    "\n",
    "\n",
    "# plt.fill_between(range(0,len(y_upper_train)),y_upper_train, y_lower_train, alpha =0.1)\n",
    "\n",
    "plt.legend()\n",
    "# plt.xlim(50,60)\n",
    "\n",
    "plt.show()"
   ]
  },
  {
   "cell_type": "code",
   "execution_count": 18,
   "metadata": {},
   "outputs": [],
   "source": [
    "def dist(upper_bound, lower_bound, obs) :\n",
    "    if obs<= upper_bound and obs <= lower_bound :\n",
    "        return (lower_bound-obs)**2\n",
    "    elif obs>= upper_bound and obs >= lower_bound :\n",
    "        return (obs - upper_bound)**2\n",
    "    else :\n",
    "        return 0"
   ]
  },
  {
   "cell_type": "code",
   "execution_count": 19,
   "metadata": {},
   "outputs": [],
   "source": [
    "def cout(upper, lower, obs) :\n",
    "    S = 0\n",
    "    for i in range(len(obs)) :\n",
    "        S += dist(upper[i], lower[i], obs[i])\n",
    "    return (S**.5)/len(obs)"
   ]
  },
  {
   "cell_type": "code",
   "execution_count": 20,
   "metadata": {},
   "outputs": [],
   "source": [
    "def mean_size(upper, lower) :\n",
    "    S = 0\n",
    "    for i in range(len(upper)) :\n",
    "        S += abs(upper[i]-lower[i])\n",
    "    return S/len(upper)"
   ]
  },
  {
   "cell_type": "code",
   "execution_count": 35,
   "metadata": {},
   "outputs": [
    {
     "data": {
      "text/plain": [
       "array([0.74753376])"
      ]
     },
     "execution_count": 35,
     "metadata": {},
     "output_type": "execute_result"
    }
   ],
   "source": [
    "cout(y_upper_test, y_lower_test, Ytest*stddv_Y1 + mean_Y1)"
   ]
  },
  {
   "cell_type": "code",
   "execution_count": 22,
   "metadata": {},
   "outputs": [
    {
     "data": {
      "text/plain": [
       "(758,)"
      ]
     },
     "execution_count": 22,
     "metadata": {},
     "output_type": "execute_result"
    }
   ],
   "source": [
    "X2[-1].shape\n"
   ]
  },
  {
   "cell_type": "code",
   "execution_count": 52,
   "metadata": {},
   "outputs": [
    {
     "data": {
      "text/plain": [
       "(87,)"
      ]
     },
     "execution_count": 52,
     "metadata": {},
     "output_type": "execute_result"
    }
   ],
   "source": [
    "from sklearn.preprocessing import StandardScaler\n",
    "\n",
    "\n",
    "#no value \n",
    "\n",
    "scaler0 = StandardScaler()\n",
    "X0_std = scaler0.fit_transform(X0)\n",
    "\n",
    "stddv_Y0 = Y0.std()\n",
    "mean_Y0 = Y0.mean()\n",
    "\n",
    "scaler01 = StandardScaler()\n",
    "Y0_std = scaler01.fit_transform(Y0.reshape(-1, 1))\n",
    "stddv_Y0_std = Y0_std.std()\n",
    "mean_Y0_std = Y0_std.mean()\n",
    "\n",
    "\n",
    "## t-1 value\n",
    "\n",
    "scaler1 = StandardScaler()\n",
    "X1_std = scaler1.fit_transform(X1)\n",
    "\n",
    "stddv_Y1 = Y1.std()\n",
    "mean_Y1 = Y1.mean()\n",
    "\n",
    "scaler11 = StandardScaler()\n",
    "Y1_std = scaler11.fit_transform(Y1.reshape(-1, 1))\n",
    "stddv_Y1_std = Y1_std.std()\n",
    "mean_Y1_std = Y1_std.mean()\n",
    "\n",
    "## t-1 and t-2 values\n",
    "\n",
    "scaler2 = StandardScaler()\n",
    "X2_std = scaler2.fit_transform(X2)\n",
    "\n",
    "stddv_Y2 = Y2.std()\n",
    "mean_Y2 = Y2.mean()\n",
    "\n",
    "scaler21 = StandardScaler()\n",
    "Y2_std = scaler21.fit_transform(Y2.reshape(-1, 1))\n",
    "stddv_Y2_std = Y2_std.std()\n",
    "mean_Y2_std = Y2_std.mean()\n",
    "\n",
    "np.ravel(Y2_std).shape"
   ]
  },
  {
   "cell_type": "code",
   "execution_count": 53,
   "metadata": {},
   "outputs": [],
   "source": [
    "def train_and_predict(X, Y, params,mean_Y, stddv_Y) :\n",
    "    Xtrain, Xtest, Ytrain, Ytest = train_test_split(X, np.ravel(Y), test_size = .2)\n",
    "    \n",
    "    reg_up = GradientBoostingRegressor(**params)\n",
    "\n",
    "    reg_up = reg_up.fit(Xtrain, Ytrain)\n",
    "\n",
    "    y_upper_test = reg_up.predict(Xtest)*stddv_Y + mean_Y\n",
    "    y_upper_train = reg_up.predict(Xtrain)*stddv_Y + mean_Y\n",
    "    \n",
    "    \n",
    "    reg_low = GradientBoostingRegressor(**params)\n",
    "    reg_low.set_params(alpha=1.0 - alpha)\n",
    "    reg_low = reg_low.fit(Xtrain, Ytrain)\n",
    "\n",
    "    y_lower_test = reg_low.predict(Xtest)*stddv_Y + mean_Y\n",
    "    y_lower_train = reg_low.predict(Xtrain)*stddv_Y + mean_Y\n",
    "    test_cost = cout(y_upper_test, y_lower_test, Ytest*stddv_Y + mean_Y)\n",
    "    train_cost = cout(y_upper_train, y_lower_train, Ytrain*stddv_Y + mean_Y)\n",
    "    \n",
    "    incert_mean_size_test = mean_size(y_upper_test, y_lower_test)\n",
    "    incert_mean_size_train = mean_size(y_upper_train, y_lower_train)\n",
    "    \n",
    "    \n",
    "    return test_cost, train_cost, incert_mean_size_test, incert_mean_size_train"
   ]
  },
  {
   "cell_type": "code",
   "execution_count": 54,
   "metadata": {},
   "outputs": [],
   "source": [
    "def param_tunning(n_esti, max_d, alpha, min_sa, lr, n_compo, n_iter) :\n",
    "    \n",
    "    test_cost0, train_cost0, incert_mean_size_test0, incert_mean_size_train0 = 0, 0, 0, 0\n",
    "    test_cost1, train_cost1, incert_mean_size_test1, incert_mean_size_train1 = 0, 0, 0, 0\n",
    "    test_cost2, train_cost2, incert_mean_size_test2, incert_mean_size_train2 = 0, 0, 0, 0\n",
    "    \n",
    "    \n",
    "    params = {'n_estimators': n_esti,\n",
    "          'max_depth': max_d,\n",
    "          'alpha' : alpha,\n",
    "          'min_samples_split': min_sa,\n",
    "          'learning_rate': lr,\n",
    "          'loss': 'ls'}\n",
    "    \n",
    "    \n",
    "    # no past value\n",
    "    \n",
    "    pca0 = PCA(n_components=n_compo)\n",
    "    X0_std_pca = pca0.fit_transform(X0_std)\n",
    "    X0_std_pca\n",
    "    \n",
    "    \n",
    "    # t-1 value\n",
    "    \n",
    "    pca1 = PCA(n_components=n_compo)\n",
    "    X1_std_pca = pca1.fit_transform(X1_std)\n",
    "    X1_std_pca\n",
    "    \n",
    "    # t-1 and t-2 values\n",
    "    \n",
    "    pca2 = PCA(n_components=n_compo)\n",
    "    X2_std_pca = pca2.fit_transform(X2_std)\n",
    "    X2_std_pca\n",
    "    \n",
    "    for i in range(n_iter) :\n",
    "        a, b, c, d = train_and_predict(X0_std_pca, Y0_std, params, mean_Y0, stddv_Y0)\n",
    "        test_cost0 += a\n",
    "        train_cost0 +=b\n",
    "        incert_mean_size_test0 +=c\n",
    "        incert_mean_size_train0 +=d\n",
    "        \n",
    "        a, b, c, d = train_and_predict(X1_std_pca, Y1_std, params, mean_Y1, stddv_Y1)\n",
    "        test_cost1 += a\n",
    "        train_cost1 +=b\n",
    "        incert_mean_size_test1 +=c\n",
    "        incert_mean_size_train1 +=d\n",
    "        \n",
    "        a, b, c, d = train_and_predict(X2_std_pca, Y2_std, params, mean_Y2, stddv_Y2)\n",
    "        test_cost2 += a\n",
    "        train_cost2 +=b\n",
    "        incert_mean_size_test2 +=c\n",
    "        incert_mean_size_train2 +=d\n",
    "        \n",
    "\n",
    "    print(n_esti, max_d, alpha, min_sa, lr, n_compo)\n",
    "    return [[\"0\",n_esti, max_d, alpha, min_sa, lr, n_compo, test_cost0/n_iter, train_cost0/n_iter, incert_mean_size_test0/n_iter, incert_mean_size_train0/n_iter],\n",
    "    [\"1\",n_esti, max_d, alpha, min_sa, lr, n_compo, test_cost1/n_iter, train_cost1/n_iter, incert_mean_size_test1/n_iter, incert_mean_size_train1/n_iter],\n",
    "    [\"2\",n_esti, max_d, alpha, min_sa, lr, n_compo, test_cost2/n_iter, train_cost2/n_iter, incert_mean_size_test2/n_iter, incert_mean_size_train2/n_iter]]"
   ]
  },
  {
   "cell_type": "code",
   "execution_count": 55,
   "metadata": {},
   "outputs": [
    {
     "name": "stdout",
     "output_type": "stream",
     "text": [
      "350 6 0.9 5 0.1 80\n"
     ]
    },
    {
     "data": {
      "text/plain": [
       "[['0',\n",
       "  350,\n",
       "  6,\n",
       "  0.9,\n",
       "  5,\n",
       "  0.1,\n",
       "  80,\n",
       "  0.5387379678948477,\n",
       "  3.8655942503707116e-15,\n",
       "  0.4118355733952883,\n",
       "  5.4041278494430154e-15],\n",
       " ['1',\n",
       "  350,\n",
       "  6,\n",
       "  0.9,\n",
       "  5,\n",
       "  0.1,\n",
       "  80,\n",
       "  0.587428497690758,\n",
       "  1.4497971693862257e-15,\n",
       "  0.2500580162323824,\n",
       "  2.842170943040401e-15],\n",
       " ['2',\n",
       "  350,\n",
       "  6,\n",
       "  0.9,\n",
       "  5,\n",
       "  0.1,\n",
       "  80,\n",
       "  0.9188637690682815,\n",
       "  1.7596753030557855e-15,\n",
       "  0.2761171206242036,\n",
       "  2.6774074101105225e-15]]"
      ]
     },
     "execution_count": 55,
     "metadata": {},
     "output_type": "execute_result"
    }
   ],
   "source": [
    "param_tunning(350, 6, .9, 5, .1, 80, 1)"
   ]
  },
  {
   "cell_type": "code",
   "execution_count": null,
   "metadata": {},
   "outputs": [],
   "source": []
  },
  {
   "cell_type": "code",
   "execution_count": null,
   "metadata": {},
   "outputs": [],
   "source": []
  },
  {
   "cell_type": "code",
   "execution_count": null,
   "metadata": {},
   "outputs": [],
   "source": []
  },
  {
   "cell_type": "code",
   "execution_count": null,
   "metadata": {},
   "outputs": [],
   "source": []
  },
  {
   "cell_type": "code",
   "execution_count": null,
   "metadata": {},
   "outputs": [],
   "source": []
  },
  {
   "cell_type": "code",
   "execution_count": null,
   "metadata": {},
   "outputs": [],
   "source": []
  },
  {
   "cell_type": "code",
   "execution_count": null,
   "metadata": {},
   "outputs": [],
   "source": []
  },
  {
   "cell_type": "code",
   "execution_count": null,
   "metadata": {},
   "outputs": [],
   "source": []
  },
  {
   "cell_type": "code",
   "execution_count": null,
   "metadata": {},
   "outputs": [],
   "source": []
  }
 ],
 "metadata": {
  "kernelspec": {
   "display_name": "Python 3",
   "language": "python",
   "name": "python3"
  },
  "language_info": {
   "codemirror_mode": {
    "name": "ipython",
    "version": 3
   },
   "file_extension": ".py",
   "mimetype": "text/x-python",
   "name": "python",
   "nbconvert_exporter": "python",
   "pygments_lexer": "ipython3",
   "version": "3.8.3"
  }
 },
 "nbformat": 4,
 "nbformat_minor": 4
}
