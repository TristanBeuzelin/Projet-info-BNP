{
 "cells": [
  {
   "cell_type": "code",
   "execution_count": 5,
   "metadata": {},
   "outputs": [
    {
     "name": "stdout",
     "output_type": "stream",
     "text": [
      "(89, 756)\n"
     ]
    }
   ],
   "source": [
    "import numpy as np\n",
    "import matplotlib.pyplot as plt\n",
    "import sklearn as skl\n",
    "from sklearn.model_selection import train_test_split\n",
    "import scipy as sc\n",
    "import pandas as pd\n",
    "\n",
    "price_data = pd.read_csv(\"../../price_filled2.csv\", sep = \";\")\n",
    "\n",
    "tab_price = price_data.to_numpy()[:,3:]\n",
    "dates_tab = price_data.columns[2:].to_numpy(dtype = np.str)\n",
    "tab_price.shape\n",
    "\n",
    "\n",
    "current_month = dates_tab[0][:-3]\n",
    "# print(current_month)\n",
    "month_first_index = {current_month : 0}\n",
    "\n",
    "for i in range(len(dates_tab)) :\n",
    "    if (dates_tab[i][-4] != current_month[-1]) :\n",
    "        current_month = dates_tab[i][:-3]\n",
    "        month_first_index[current_month] = i\n",
    "#     print(dates_tab[i][-4], current_month[-1])\n",
    "\n",
    "\n",
    "indexes = np.array(list(month_first_index.values()))\n",
    "total = []\n",
    "for i in range(len(month_first_index)-1) :\n",
    "    X = tab_price[:,indexes[i]:indexes[i+1]].mean(axis = 1)\n",
    "    total.append(X)\n",
    "total.append(tab_price[:,indexes[-1]:].mean(axis = 1))\n",
    "result = np.column_stack(total)\n",
    "n_data = result.shape[1]\n",
    "\n",
    "IPC_df = pd.read_csv(\"../../valeurs_mensuelles.csv\", sep = \";\")\n",
    "dates = IPC_df[\"Libellé\"].to_numpy()[3:]\n",
    "dates = dates[::-1].copy()\n",
    "\n",
    "IPC = IPC_df[IPC_df.columns[1]].iloc[3:].to_numpy(dtype = np.float)[::-1]\n",
    "\n",
    "IPC_selec = IPC[-n_data:]\n",
    "\n",
    "X = result.copy()\n",
    "X0 = np.transpose(X) #juste les données de base\n",
    "X1 = np.transpose(np.vstack((X[:,1:], IPC_selec[:-1]))) #on donne en plus le point t-1\n",
    "X2 = np.transpose(np.vstack((np.transpose(X1)[:,1:], IPC_selec[:-2]))) #on donne en plus le point t-2\n",
    "\n",
    "Y0 = IPC_selec\n",
    "Y1 = IPC_selec[1:]\n",
    "Y2 = IPC_selec[2:]\n",
    "\n",
    "print(X0.shape)\n",
    "\n",
    "\n"
   ]
  },
  {
   "cell_type": "code",
   "execution_count": 6,
   "metadata": {},
   "outputs": [
    {
     "data": {
      "text/plain": [
       "(87,)"
      ]
     },
     "execution_count": 6,
     "metadata": {},
     "output_type": "execute_result"
    }
   ],
   "source": [
    "from sklearn.preprocessing import StandardScaler\n",
    "\n",
    "\n",
    "#no value \n",
    "\n",
    "scaler0 = StandardScaler()\n",
    "X0_std = scaler0.fit_transform(X0)\n",
    "\n",
    "stddv_Y0 = Y0.std()\n",
    "mean_Y0 = Y0.mean()\n",
    "\n",
    "scaler01 = StandardScaler()\n",
    "Y0_std = scaler01.fit_transform(Y0.reshape(-1, 1))\n",
    "stddv_Y0_std = Y0_std.std()\n",
    "mean_Y0_std = Y0_std.mean()\n",
    "\n",
    "\n",
    "## t-1 value\n",
    "\n",
    "scaler1 = StandardScaler()\n",
    "X1_std = scaler1.fit_transform(X1)\n",
    "\n",
    "stddv_Y1 = Y1.std()\n",
    "mean_Y1 = Y1.mean()\n",
    "\n",
    "scaler11 = StandardScaler()\n",
    "Y1_std = scaler11.fit_transform(Y1.reshape(-1, 1))\n",
    "stddv_Y1_std = Y1_std.std()\n",
    "mean_Y1_std = Y1_std.mean()\n",
    "\n",
    "## t-1 and t-2 values\n",
    "\n",
    "scaler2 = StandardScaler()\n",
    "X2_std = scaler2.fit_transform(X2)\n",
    "\n",
    "stddv_Y2 = Y2.std()\n",
    "mean_Y2 = Y2.mean()\n",
    "\n",
    "scaler21 = StandardScaler()\n",
    "Y2_std = scaler21.fit_transform(Y2.reshape(-1, 1))\n",
    "stddv_Y2_std = Y2_std.std()\n",
    "mean_Y2_std = Y2_std.mean()\n",
    "\n",
    "np.ravel(Y2_std).shape"
   ]
  },
  {
   "cell_type": "code",
   "execution_count": 7,
   "metadata": {},
   "outputs": [],
   "source": [
    "\n",
    "from sklearn.decomposition import PCA\n",
    "\n",
    "pca = PCA(n_components=80)\n",
    "X1_std_pca = pca.fit_transform(X1_std)\n",
    "X1_std_pca\n",
    "\n",
    "X1_std_pca.shape\n",
    "\n",
    "\n",
    "\n",
    "Xtrain, Xtest, Ytrain, Ytest = train_test_split(X1_std_pca, Y1_std, test_size = .2)\n",
    "# Xtrain = Xtrain.T\n",
    "# Xtest = Xtest.T"
   ]
  },
  {
   "cell_type": "code",
   "execution_count": 8,
   "metadata": {},
   "outputs": [
    {
     "name": "stdout",
     "output_type": "stream",
     "text": [
      "test :  0.931287164731175\n",
      "train :  1.0\n"
     ]
    }
   ],
   "source": [
    "from sklearn.linear_model import LinearRegression\n",
    "\n",
    "reg = LinearRegression(fit_intercept=False).fit(Xtrain, Ytrain)\n",
    "print(\"test : \", reg.score(Xtest, Ytest))\n",
    "print(\"train : \", reg.score(Xtrain, Ytrain))"
   ]
  },
  {
   "cell_type": "code",
   "execution_count": 11,
   "metadata": {},
   "outputs": [
    {
     "data": {
      "image/png": "[encoded data removed]",
      "text/plain": [
       "<Figure size 432x288 with 1 Axes>"
      ]
     },
     "metadata": {
      "needs_background": "light"
     },
     "output_type": "display_data"
    }
   ],
   "source": [
    "ypredicted = reg.predict(Xtest)\n",
    "\n",
    "plt.figure()\n",
    "plt.plot(ypredicted*stddv_Y1 + mean_Y1)\n",
    "plt.plot(Ytest*stddv_Y1 + mean_Y1)\n",
    "plt.show()"
   ]
  },
  {
   "cell_type": "code",
   "execution_count": 16,
   "metadata": {},
   "outputs": [],
   "source": [
    "def cout(predict, obs) :\n",
    "    S = 0\n",
    "    for i in range(len(obs)) :\n",
    "        S += (predict[i] - obs[i])**2\n",
    "    return (S**.5)/len(obs)"
   ]
  },
  {
   "cell_type": "code",
   "execution_count": 18,
   "metadata": {},
   "outputs": [
    {
     "data": {
      "text/plain": [
       "array([0.61836125])"
      ]
     },
     "execution_count": 18,
     "metadata": {},
     "output_type": "execute_result"
    }
   ],
   "source": [
    "cout(ypredicted*stddv_Y1 + mean_Y1, Ytest*stddv_Y1 + mean_Y1)"
   ]
  },
  {
   "cell_type": "code",
   "execution_count": 24,
   "metadata": {},
   "outputs": [
    {
     "data": {
      "text/plain": [
       "array([1.8, 2.3, 1.2, 3.0, 3.3, 1.6, 3.25, 3.1975, 1.3, 3.4, 4.0, 1.5,\n",
       "       4.5, 1.4, 1.7, 1.1, 1.3, 1.4, 2.0, 2.2, 2.5, 2.6, 1.3, 1.5, 1.6,\n",
       "       2.1, 3.8, 3.5, 4.5, 3.8, 3.5, 3.8, 4.5, 6.5, 3.0, 4.7, 4.0, 4.2,\n",
       "       5.5, 4.2, 3.8, 2.4, 2.6, 3.3, 1.25, 1.25, 1.8, 2.6, 2.5, 3.0, 2.5,\n",
       "       4.0, 5.0, 20.0, 13.5, 0.95, 1.0, 1.5, 1.7, 5.0, 5.075, 7.625, 4.5,\n",
       "       6.075, 1.5, 7.25, 6.8, 7.2, 4.2, 4.2, 6.65, 9.0, 8.5, 8.5, 4.5,\n",
       "       6.0, 1.5, 0.975, 1.15, 1.1, 5.0, 17.0, 17.0, 20.0, 20.0, 23.0,\n",
       "       22.0, 21.5, 20.5, 2.5, 9.5, 6.5, 1.0, 0.9750000000000001, 1.15,\n",
       "       1.7725, 1.4, 1.9, 1.9, 1.1, 0.85, 1.4, 0.65, 0.7, 1.1, 0.85, 1.0,\n",
       "       3.0, 2.2, 2.8, 3.0, 4.0, 5.5, 9.75, 2.6, 13.25, 2.6, 4.0, 6.0, 6.0,\n",
       "       3.0, 4.0, 1.9, 11.0, 10.0, 11.5, 11.5, 11.5, 11.5, 1.3375, 1.4,\n",
       "       3.0, 8.0, 10.0, 8.0, 13.625, 0.7, 0.6, 0.7, 0.6, 9.0, 7.5, 1.6,\n",
       "       1.7, 1.15, 1.0, 1.3, 1.6, 1.4, 1.4, 1.5, 1.2, 1.15, 1.0, 2.3, 1.7,\n",
       "       1.2, 2.8, 1.2, 0.95, 1.3, 3.2, 4.0, 3.5, 1.7, 1.15, 1.8, 0.9, 1.4,\n",
       "       1.15, 1.4, 1.3, 0.9, 1.1, 1.0, 0.8, 1.8, 1.75, 1.3, 1.9, 2.6, 2.5,\n",
       "       2.3, 2.1, 3.2, 1.5, 1.3, 1.1, 1.9, 1.8, 1.9, 0.8, 0.45, 0.45, 0.66,\n",
       "       0.695, 1.5, 1.3, 0.4, 2.6, 3.9, 12.75, 1.0, 0.95, 0.65, 2.0, 2.2,\n",
       "       1.5, 1.25, 3.0, 1.7, 0.75, 1.3, 0.6, 1.45, 1.3, 1.2, 1.1, 1.0,\n",
       "       1.15, 1.2, 1.4, 2.0, 1.55, 1.5, 1.125, 5.0, 6.5, 3.0, 5.0, 7.5,\n",
       "       3.5, 2.5, 4.8, 1.8, 3.0, 4.0, 5.8, 9.0, 11.25, 12.75, 8.0, 2.2,\n",
       "       7.05, 8.0, 2.5, 2.6, 4.5, 2.0, 7.0, 2.0, 12.0, 12.0, 17.6, 14.4,\n",
       "       12.0, 1.15, 2.0, 1.9, 2.05, 2.8, 1.8, 3.0, 3.2, 1.6, 5.8, 2.0, 3.0,\n",
       "       2.0, 2.9, 3.5, 1.7, 2.5, 2.2, 1.8, 5.3, 5.8, 5.0, 4.9, 1.75, 2.3,\n",
       "       2.3, 1.4, 1.8, 2.8, 3.2, 3.5, 3.7, 2.9, 2.6, 1.6, 1.7, 1.65, 1.05,\n",
       "       1.1, 3.2, 3.3, 3.3, 3.6, 3.2, 7.0, 5.5, 7.0, 7.0, 9.5, 6.0, 6.5,\n",
       "       9.0, 6.5, 3.5, 3.8, 13.0, 13.0, 9.0, 4.0, 1.8, 5.45, 17.0, 2.4,\n",
       "       1.5, 3.5, 3.0, 5.0, 5.5, 1.8, 2.7, 5.5, 1.7, 2.8, 5.5, 2.0, 4.8,\n",
       "       5.6, 2.5, 5.0, 1.75, 5.5, 6.5, 2.3, 4.5, 1.8, 2.4, 3.5, 2.3, 3.5,\n",
       "       4.0, 4.8, 4.2, 4.5, 4.2, 0.75, 0.7, 2.295, 0.8, 0.8, 2.3, 1.2, 1.2,\n",
       "       1.2, 1.1, 1.5, 1.75, 2.0025, 0.8, 1.2, 7.0, 1.0, 1.05, 1.3, 1.35,\n",
       "       1.5, 1.9, 2.2, 2.4000000000000004, 1.7, 3.2, 2.4, 2.7, 3.0, 1.9,\n",
       "       2.2, 2.4000000000000004, 1.7, 2.6, 2.4, 2.7, 3.0, 5.5, 3.6, 3.8,\n",
       "       4.2, 4.6, 2.8, 3.0, 3.4, 3.8, 1.3, 0.9, 0.4, 0.7, 0.35, 0.4, 1.1,\n",
       "       1.0, 1.1, 1.35, 1.05, 0.85, 1.0, 1.2, 1.2, 1.5, 0.8, 0.95, 0.9,\n",
       "       1.2, 1.55, 0.9, 1.3, 1.0, 0.8, 0.7, 1.4, 1.1, 1.05, 0.9, 0.8, 0.7,\n",
       "       1.4, 1.1, 1.2, 1.3, 0.8, 1.2, 1.1, 1.15, 0.8, 0.62, 1.8, 1.8, 1.5,\n",
       "       1.15, 0.95, 1.2, 0.75, 1.05, 1.15, 1.3, 0.75, 0.8, 0.8, 1.0, 1.1,\n",
       "       0.5, 1.2, 1.3, 3.2, 2.0, 2.2, 3.0, 1.4, 1.55, 1.5, 5.5, 4.5, 1.25,\n",
       "       2.2, 1.6, 1.55, 1.2, 1.4, 1.8, 1.85, 1.6, 1.4, 2.0, 2.5, 2.6, 1.1,\n",
       "       1.5, 2.5, 1.7, 1.2, 1.9, 2.3, 1.3, 1.8, 1.3, 1.4, 1.4, 0.8, 1.35,\n",
       "       0.95, 1.5, 1.9, 1.2, 1.4, 2.2, 1.3, 1.7, 1.55, 0.6, 0.9, 1.7, 1.45,\n",
       "       1.0, 0.7, 1.9, 1.9249999999999998, 1.3, 1.9249999999999998, 2.2,\n",
       "       4.0, 4.3, 4.5, 3.2, 2.5, 1.3, 2.8, 2.35, 2.9000000000000004, 1.5,\n",
       "       1.3, 1.4, 1.8, 1.6, 2.05, 1.5, 1.2, 1.1, 1.15, 0.9, 1.3, 1.3, 1.0,\n",
       "       1.1, 2.0, 2.0, 1.7, 0.95, 0.9, 1.5, 1.05, 1.0, 1.2, 2.5, 1.3, 1.5,\n",
       "       1.2, 1.2, 1.0, 1.75, 1.0, 1.45, 1.65, 2.2, 2.1, 0.95, 0.9, 0.8,\n",
       "       1.4, 1.2, 3.3, 0.8, 1.6, 3.8, 0.85, 1.0, 5.875, 4.0, 1.6, 2.8, 0.9,\n",
       "       0.34, 0.2, 6.0, 1.3, 1.4, 1.7, 0.75, 1.5, 1.55, 1.4, 3.1, 1.45,\n",
       "       1.8, 2.1, 1.5, 0.8, 0.8, 0.9, 1.35, 0.9, 1.1, 1.25, 1.7, 1.8, 0.85,\n",
       "       0.65, 1.2, 0.8, 0.75, 1.6, 0.8, 1.3, 1.8, 1.75, 1.7, 1.8, 0.9, 0.9,\n",
       "       1.7, 1.6, 1.7, 2.6, 1.8, 2.45, 2.25, 2.8, 2.5, 2.4, 2.5, 1.1, 1.7,\n",
       "       1.5, 2.0, 2.2, 2.3, 2.0, 1.8, 1.45, 1.15, 1.5, 1.2, 1.9, 1.4, 1.8,\n",
       "       1.9, 0.8, 0.9, 1.2, 1.8, 1.05, 1.6, 1.7, 1.6, 1.25, 1.2, 1.4, 1.5,\n",
       "       1.4, 1.45, 1.6, 1.2, 1.95, 2.3, 0.9, 1.4, 3.0, 4.2, 1.9, 1.8, 2.5,\n",
       "       1.7, 1.8, 1.4, 2.8, 3.5, 1.8, 2.4, 3.2, 3.5, 2.1,\n",
       "       2.4000000000000004, 1.7, 2.4, 2.3, 2.7, 3.0, 3.5, 2.1,\n",
       "       2.4000000000000004, 1.7, 2.4, 2.7, 3.0, 1.4, 2.0, 1.8, 3.0, 0.9,\n",
       "       2.7, 4.0, 3.5, 2.8, 3.0, 1.8, 1.7, 2.0, 1.5, 2.8, 2.8, 1.9, 2.0,\n",
       "       1.7, 3.5, 5.0, 3.2, 2.5, 2.0, 3.0, 3.5, 1.3, 1.8, 3.0, 1.9, 2.1,\n",
       "       2.2, 1.6, 1.8, 8.0, 4.0, 3.5, 4.8, 3.425, 3.5, 4.5, 4.8, 3.0, 2.8,\n",
       "       2.2, 1.9, 1.6, 2.1500000000000004, 2.2, 2.2, 1.35, 1.2, 2.2, 1.5,\n",
       "       1.1, 1.25, 1.4, 1.1500000000000001, 1.0, 0.8, 1.0,\n",
       "       1.1624999999999999, 1.0, 1.1, 750.0, 600.0, 1.3, 4.3, 1.8, 1.8],\n",
       "      dtype=object)"
      ]
     },
     "execution_count": 24,
     "metadata": {},
     "output_type": "execute_result"
    }
   ],
   "source": [
    "X[:,-1]"
   ]
  },
  {
   "cell_type": "code",
   "execution_count": null,
   "metadata": {},
   "outputs": [],
   "source": []
  }
 ],
 "metadata": {
  "kernelspec": {
   "display_name": "Python 3",
   "language": "python",
   "name": "python3"
  },
  "language_info": {
   "codemirror_mode": {
    "name": "ipython",
    "version": 3
   },
   "file_extension": ".py",
   "mimetype": "text/x-python",
   "name": "python",
   "nbconvert_exporter": "python",
   "pygments_lexer": "ipython3",
   "version": "3.8.3"
  }
 },
 "nbformat": 4,
 "nbformat_minor": 4
}
